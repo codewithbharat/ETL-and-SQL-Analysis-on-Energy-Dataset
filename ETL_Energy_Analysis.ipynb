{
 "cells": [
  {
   "cell_type": "markdown",
   "id": "f632e81a",
   "metadata": {},
   "source": [
    "# 🌍 ETL + SQL Analysis on Global Energy Dataset\n",
    "This notebook walks you through a full ETL (Extract, Transform, Load) and SQL analysis project using a real-world energy dataset."
   ]
  },
  {
   "cell_type": "code",
   "execution_count": 3,
   "id": "1404e6ad",
   "metadata": {},
   "outputs": [],
   "source": [
    "import pandas as pd\n",
    "import sqlite3\n",
    "import matplotlib.pyplot as plt\n"
   ]
  },
  {
   "cell_type": "markdown",
   "id": "675fe3e7",
   "metadata": {},
   "source": [
    "## 📥 2. Load the Dataset\n",
    "Ensure `owid-energy-data.csv` is in the same directory as this notebook."
   ]
  },
  {
   "cell_type": "code",
   "execution_count": 4,
   "id": "d7ddbcdb",
   "metadata": {},
   "outputs": [
    {
     "data": {
      "text/html": [
       "<div>\n",
       "<style scoped>\n",
       "    .dataframe tbody tr th:only-of-type {\n",
       "        vertical-align: middle;\n",
       "    }\n",
       "\n",
       "    .dataframe tbody tr th {\n",
       "        vertical-align: top;\n",
       "    }\n",
       "\n",
       "    .dataframe thead th {\n",
       "        text-align: right;\n",
       "    }\n",
       "</style>\n",
       "<table border=\"1\" class=\"dataframe\">\n",
       "  <thead>\n",
       "    <tr style=\"text-align: right;\">\n",
       "      <th></th>\n",
       "      <th>country</th>\n",
       "      <th>year</th>\n",
       "      <th>primary_energy_consumption</th>\n",
       "      <th>energy_per_capita</th>\n",
       "      <th>greenhouse_gas_emissions</th>\n",
       "      <th>population</th>\n",
       "    </tr>\n",
       "  </thead>\n",
       "  <tbody>\n",
       "    <tr>\n",
       "      <th>0</th>\n",
       "      <td>Afghanistan</td>\n",
       "      <td>2000</td>\n",
       "      <td>5.914</td>\n",
       "      <td>302.595</td>\n",
       "      <td>0.12</td>\n",
       "      <td>20130279.0</td>\n",
       "    </tr>\n",
       "    <tr>\n",
       "      <th>1</th>\n",
       "      <td>Afghanistan</td>\n",
       "      <td>2001</td>\n",
       "      <td>4.664</td>\n",
       "      <td>236.892</td>\n",
       "      <td>0.15</td>\n",
       "      <td>20284252.0</td>\n",
       "    </tr>\n",
       "    <tr>\n",
       "      <th>2</th>\n",
       "      <td>Afghanistan</td>\n",
       "      <td>2002</td>\n",
       "      <td>4.428</td>\n",
       "      <td>210.862</td>\n",
       "      <td>0.12</td>\n",
       "      <td>21378081.0</td>\n",
       "    </tr>\n",
       "    <tr>\n",
       "      <th>3</th>\n",
       "      <td>Afghanistan</td>\n",
       "      <td>2003</td>\n",
       "      <td>5.208</td>\n",
       "      <td>229.968</td>\n",
       "      <td>0.22</td>\n",
       "      <td>22733007.0</td>\n",
       "    </tr>\n",
       "    <tr>\n",
       "      <th>4</th>\n",
       "      <td>Afghanistan</td>\n",
       "      <td>2004</td>\n",
       "      <td>4.810</td>\n",
       "      <td>204.231</td>\n",
       "      <td>0.18</td>\n",
       "      <td>23560598.0</td>\n",
       "    </tr>\n",
       "  </tbody>\n",
       "</table>\n",
       "</div>"
      ],
      "text/plain": [
       "       country  year  primary_energy_consumption  energy_per_capita  \\\n",
       "0  Afghanistan  2000                       5.914            302.595   \n",
       "1  Afghanistan  2001                       4.664            236.892   \n",
       "2  Afghanistan  2002                       4.428            210.862   \n",
       "3  Afghanistan  2003                       5.208            229.968   \n",
       "4  Afghanistan  2004                       4.810            204.231   \n",
       "\n",
       "   greenhouse_gas_emissions  population  \n",
       "0                      0.12  20130279.0  \n",
       "1                      0.15  20284252.0  \n",
       "2                      0.12  21378081.0  \n",
       "3                      0.22  22733007.0  \n",
       "4                      0.18  23560598.0  "
      ]
     },
     "execution_count": 4,
     "metadata": {},
     "output_type": "execute_result"
    }
   ],
   "source": [
    "# Load the dataset\n",
    "df = pd.read_csv('owid-energy-data.csv')\n",
    "# Normalize column names\n",
    "df.columns = df.columns.str.strip().str.lower().str.replace(' ', '_')\n",
    "\n",
    "# Drop rows where 'country' or 'year' is missing\n",
    "df = df.dropna(subset=['country', 'year'])\n",
    "\n",
    "# Remove regional aggregates like \"World\", \"Asia\", \"ASEAN (Ember)\", etc.\n",
    "exclude = ['World', 'Asia', 'Africa', 'Europe', 'North America', 'Oceania', 'European Union',\n",
    "           'ASEAN (Ember)', 'Africa (Ember)', 'Non-OECD', 'OECD', 'South America (Ember)', 'G20', 'G7']\n",
    "\n",
    "df = df[~df['country'].isin(exclude)]\n",
    "\n",
    "# Now filter to only the important columns (drop the rest)\n",
    "df = df[['country', 'year', 'primary_energy_consumption', 'energy_per_capita', 'greenhouse_gas_emissions', 'population']]\n",
    "\n",
    "# Drop rows where all these columns are missing\n",
    "df = df.dropna(subset=['primary_energy_consumption', 'energy_per_capita', 'greenhouse_gas_emissions', 'population'])\n",
    "\n",
    "# Reset index after cleaning\n",
    "df = df.reset_index(drop=True)\n",
    "\n",
    "# Show the cleaned data\n",
    "df.head()\n"
   ]
  },
  {
   "cell_type": "markdown",
   "id": "761522cc",
   "metadata": {},
   "source": [
    "## 🗃️ 4. Load Cleaned Data into SQLite"
   ]
  },
  {
   "cell_type": "code",
   "execution_count": 5,
   "id": "ece28e01",
   "metadata": {},
   "outputs": [
    {
     "name": "stdout",
     "output_type": "stream",
     "text": [
      "Data loaded into SQLite successfully!\n"
     ]
    }
   ],
   "source": [
    "# Create SQLite database and load data\n",
    "conn = sqlite3.connect('energy_data.db')\n",
    "df.to_sql('energy', conn, if_exists='replace', index=False)\n",
    "print('Data loaded into SQLite successfully!')"
   ]
  },
  {
   "cell_type": "markdown",
   "id": "d6a4dd06",
   "metadata": {},
   "source": [
    "## 🔍 5. Run SQL Queries"
   ]
  },
  {
   "cell_type": "code",
   "execution_count": 6,
   "id": "32134c5a",
   "metadata": {},
   "outputs": [
    {
     "data": {
      "text/html": [
       "<div>\n",
       "<style scoped>\n",
       "    .dataframe tbody tr th:only-of-type {\n",
       "        vertical-align: middle;\n",
       "    }\n",
       "\n",
       "    .dataframe tbody tr th {\n",
       "        vertical-align: top;\n",
       "    }\n",
       "\n",
       "    .dataframe thead th {\n",
       "        text-align: right;\n",
       "    }\n",
       "</style>\n",
       "<table border=\"1\" class=\"dataframe\">\n",
       "  <thead>\n",
       "    <tr style=\"text-align: right;\">\n",
       "      <th></th>\n",
       "      <th>year</th>\n",
       "      <th>total_energy</th>\n",
       "    </tr>\n",
       "  </thead>\n",
       "  <tbody>\n",
       "    <tr>\n",
       "      <th>0</th>\n",
       "      <td>2000</td>\n",
       "      <td>241012.482</td>\n",
       "    </tr>\n",
       "    <tr>\n",
       "      <th>1</th>\n",
       "      <td>2001</td>\n",
       "      <td>243311.962</td>\n",
       "    </tr>\n",
       "    <tr>\n",
       "      <th>2</th>\n",
       "      <td>2002</td>\n",
       "      <td>247927.654</td>\n",
       "    </tr>\n",
       "    <tr>\n",
       "      <th>3</th>\n",
       "      <td>2003</td>\n",
       "      <td>256156.709</td>\n",
       "    </tr>\n",
       "    <tr>\n",
       "      <th>4</th>\n",
       "      <td>2004</td>\n",
       "      <td>268402.900</td>\n",
       "    </tr>\n",
       "  </tbody>\n",
       "</table>\n",
       "</div>"
      ],
      "text/plain": [
       "   year  total_energy\n",
       "0  2000    241012.482\n",
       "1  2001    243311.962\n",
       "2  2002    247927.654\n",
       "3  2003    256156.709\n",
       "4  2004    268402.900"
      ]
     },
     "execution_count": 6,
     "metadata": {},
     "output_type": "execute_result"
    }
   ],
   "source": [
    "# Total energy consumption per year\n",
    "query = '''\n",
    "SELECT year, SUM(primary_energy_consumption) AS total_energy\n",
    "FROM energy\n",
    "GROUP BY year\n",
    "ORDER BY year;\n",
    "'''\n",
    "df_total_energy = pd.read_sql(query, conn)\n",
    "df_total_energy.head()"
   ]
  },
  {
   "cell_type": "markdown",
   "id": "e501d211",
   "metadata": {},
   "source": [
    "## 📈 6. Visualize Energy Use Over Time"
   ]
  },
  {
   "cell_type": "code",
   "execution_count": 7,
   "id": "179e5ec0",
   "metadata": {},
   "outputs": [
    {
     "data": {
      "image/png": "[encoded data removed]",
      "text/plain": [
       "<Figure size 1000x500 with 1 Axes>"
      ]
     },
     "metadata": {},
     "output_type": "display_data"
    }
   ],
   "source": [
    "plt.figure(figsize=(10, 5))\n",
    "plt.plot(df_total_energy['year'], df_total_energy['total_energy'], marker='o')\n",
    "plt.title('Total Global Energy Consumption Over Time')\n",
    "plt.xlabel('Year')\n",
    "plt.ylabel('Energy Consumption (TWh)')\n",
    "plt.grid(True)\n",
    "plt.tight_layout()\n",
    "plt.show()"
   ]
  },
  {
   "cell_type": "markdown",
   "id": "7f69c52d",
   "metadata": {},
   "source": [
    "## 🔝 7. Top 5 Countries by Greenhouse Gas Emissions in 2020"
   ]
  },
  {
   "cell_type": "code",
   "execution_count": 8,
   "id": "f05adee8",
   "metadata": {},
   "outputs": [
    {
     "data": {
      "text/html": [
       "<div>\n",
       "<style scoped>\n",
       "    .dataframe tbody tr th:only-of-type {\n",
       "        vertical-align: middle;\n",
       "    }\n",
       "\n",
       "    .dataframe tbody tr th {\n",
       "        vertical-align: top;\n",
       "    }\n",
       "\n",
       "    .dataframe thead th {\n",
       "        text-align: right;\n",
       "    }\n",
       "</style>\n",
       "<table border=\"1\" class=\"dataframe\">\n",
       "  <thead>\n",
       "    <tr style=\"text-align: right;\">\n",
       "      <th></th>\n",
       "      <th>country</th>\n",
       "      <th>greenhouse_gas_emissions</th>\n",
       "    </tr>\n",
       "  </thead>\n",
       "  <tbody>\n",
       "    <tr>\n",
       "      <th>0</th>\n",
       "      <td>Upper-middle-income countries</td>\n",
       "      <td>6489.74</td>\n",
       "    </tr>\n",
       "    <tr>\n",
       "      <th>1</th>\n",
       "      <td>High-income countries</td>\n",
       "      <td>4838.16</td>\n",
       "    </tr>\n",
       "    <tr>\n",
       "      <th>2</th>\n",
       "      <td>China</td>\n",
       "      <td>4716.12</td>\n",
       "    </tr>\n",
       "    <tr>\n",
       "      <th>3</th>\n",
       "      <td>Lower-middle-income countries</td>\n",
       "      <td>1783.59</td>\n",
       "    </tr>\n",
       "    <tr>\n",
       "      <th>4</th>\n",
       "      <td>United States</td>\n",
       "      <td>1664.57</td>\n",
       "    </tr>\n",
       "  </tbody>\n",
       "</table>\n",
       "</div>"
      ],
      "text/plain": [
       "                         country  greenhouse_gas_emissions\n",
       "0  Upper-middle-income countries                   6489.74\n",
       "1          High-income countries                   4838.16\n",
       "2                          China                   4716.12\n",
       "3  Lower-middle-income countries                   1783.59\n",
       "4                  United States                   1664.57"
      ]
     },
     "execution_count": 8,
     "metadata": {},
     "output_type": "execute_result"
    }
   ],
   "source": [
    "query = '''\n",
    "SELECT country, greenhouse_gas_emissions\n",
    "FROM energy\n",
    "WHERE year = 2020\n",
    "ORDER BY greenhouse_gas_emissions DESC\n",
    "LIMIT 5;\n",
    "'''\n",
    "pd.read_sql(query, conn)"
   ]
  },
  {
   "cell_type": "markdown",
   "id": "dd7de785",
   "metadata": {},
   "source": [
    "## 📊 8. Average Per Capita Energy (2015–2020)"
   ]
  },
  {
   "cell_type": "code",
   "execution_count": 9,
   "id": "f78b6dc3",
   "metadata": {},
   "outputs": [
    {
     "data": {
      "text/html": [
       "<div>\n",
       "<style scoped>\n",
       "    .dataframe tbody tr th:only-of-type {\n",
       "        vertical-align: middle;\n",
       "    }\n",
       "\n",
       "    .dataframe tbody tr th {\n",
       "        vertical-align: top;\n",
       "    }\n",
       "\n",
       "    .dataframe thead th {\n",
       "        text-align: right;\n",
       "    }\n",
       "</style>\n",
       "<table border=\"1\" class=\"dataframe\">\n",
       "  <thead>\n",
       "    <tr style=\"text-align: right;\">\n",
       "      <th></th>\n",
       "      <th>country</th>\n",
       "      <th>avg_per_capita</th>\n",
       "    </tr>\n",
       "  </thead>\n",
       "  <tbody>\n",
       "    <tr>\n",
       "      <th>0</th>\n",
       "      <td>Qatar</td>\n",
       "      <td>212231.067667</td>\n",
       "    </tr>\n",
       "    <tr>\n",
       "      <th>1</th>\n",
       "      <td>Iceland</td>\n",
       "      <td>179515.216000</td>\n",
       "    </tr>\n",
       "    <tr>\n",
       "      <th>2</th>\n",
       "      <td>Singapore</td>\n",
       "      <td>159757.968667</td>\n",
       "    </tr>\n",
       "    <tr>\n",
       "      <th>3</th>\n",
       "      <td>Bahrain</td>\n",
       "      <td>148473.122500</td>\n",
       "    </tr>\n",
       "    <tr>\n",
       "      <th>4</th>\n",
       "      <td>United Arab Emirates</td>\n",
       "      <td>133592.272000</td>\n",
       "    </tr>\n",
       "    <tr>\n",
       "      <th>5</th>\n",
       "      <td>Trinidad and Tobago</td>\n",
       "      <td>132332.373667</td>\n",
       "    </tr>\n",
       "    <tr>\n",
       "      <th>6</th>\n",
       "      <td>Brunei</td>\n",
       "      <td>120692.678333</td>\n",
       "    </tr>\n",
       "    <tr>\n",
       "      <th>7</th>\n",
       "      <td>Canada</td>\n",
       "      <td>108831.718833</td>\n",
       "    </tr>\n",
       "    <tr>\n",
       "      <th>8</th>\n",
       "      <td>Kuwait</td>\n",
       "      <td>103929.903500</td>\n",
       "    </tr>\n",
       "    <tr>\n",
       "      <th>9</th>\n",
       "      <td>Norway</td>\n",
       "      <td>103868.885667</td>\n",
       "    </tr>\n",
       "  </tbody>\n",
       "</table>\n",
       "</div>"
      ],
      "text/plain": [
       "                country  avg_per_capita\n",
       "0                 Qatar   212231.067667\n",
       "1               Iceland   179515.216000\n",
       "2             Singapore   159757.968667\n",
       "3               Bahrain   148473.122500\n",
       "4  United Arab Emirates   133592.272000\n",
       "5   Trinidad and Tobago   132332.373667\n",
       "6                Brunei   120692.678333\n",
       "7                Canada   108831.718833\n",
       "8                Kuwait   103929.903500\n",
       "9                Norway   103868.885667"
      ]
     },
     "execution_count": 9,
     "metadata": {},
     "output_type": "execute_result"
    }
   ],
   "source": [
    "query = '''\n",
    "SELECT country, AVG(energy_per_capita) AS avg_per_capita\n",
    "FROM energy\n",
    "WHERE year BETWEEN 2015 AND 2020\n",
    "GROUP BY country\n",
    "ORDER BY avg_per_capita DESC\n",
    "LIMIT 10;\n",
    "'''\n",
    "pd.read_sql(query, conn)"
   ]
  },
  {
   "cell_type": "code",
   "execution_count": null,
   "id": "c7f73e89",
   "metadata": {},
   "outputs": [],
   "source": []
  }
 ],
 "metadata": {
  "kernelspec": {
   "display_name": "base",
   "language": "python",
   "name": "python3"
  },
  "language_info": {
   "codemirror_mode": {
    "name": "ipython",
    "version": 3
   },
   "file_extension": ".py",
   "mimetype": "text/x-python",
   "name": "python",
   "nbconvert_exporter": "python",
   "pygments_lexer": "ipython3",
   "version": "3.12.7"
  }
 },
 "nbformat": 4,
 "nbformat_minor": 5
}
